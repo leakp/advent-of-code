{
 "cells": [
  {
   "cell_type": "markdown",
   "metadata": {},
   "source": [
    "Read test_data and puzzle data"
   ]
  },
  {
   "cell_type": "code",
   "execution_count": 1,
   "metadata": {},
   "outputs": [],
   "source": [
    "from scipy import stats\n",
    "import numpy as np"
   ]
  },
  {
   "cell_type": "code",
   "execution_count": 2,
   "metadata": {},
   "outputs": [],
   "source": [
    "with open(\"test_input3.txt\", \"r\") as tf:\n",
    "    test_data = tf.read().split('\\n')\n",
    "\n",
    "with open(\"input3.txt\", \"r\") as tf:\n",
    "    data = tf.read().split('\\n')    "
   ]
  },
  {
   "cell_type": "code",
   "execution_count": null,
   "metadata": {},
   "outputs": [],
   "source": [
    "gamma_list = []\n",
    "epsilon_list = []\n",
    "for a in range(len(test_data[0])):\n",
    "    val = [int(l[a]) for l in test_data]\n",
    "    counts = np.bincount(val)\n",
    "    gamma_list.append(np.argmax(counts))\n",
    "    epsilon_list.append( np.argmin(counts))\n",
    "gamma_int = int('0b'+''.join([str(i) for i in gamma_list]),2)\n",
    "epsilon_int = int('0b'+''.join([str(i) for i in epsilon_list]),2)\n",
    "power = gamma_int * epsilon_int\n",
    "print(\"Gamma rate: \",gamma_int)\n",
    "print(\"Epsilon rate: \",epsilon_int)\n",
    "print(\"Power consumption: \", power)"
   ]
  },
  {
   "cell_type": "code",
   "execution_count": null,
   "metadata": {},
   "outputs": [],
   "source": [
    "def get_power_consumption(data):\n",
    "    gamma_list = []\n",
    "    epsilon_list = []\n",
    "    for a in range(len(data[0])):\n",
    "        val = [int(l[a]) for l in data]\n",
    "        counts = np.bincount(val)\n",
    "        gamma_list.append(np.argmax(counts))\n",
    "        epsilon_list.append( np.argmin(counts))\n",
    "    gamma_int = int('0b'+''.join([str(i) for i in gamma_list]),2)\n",
    "    epsilon_int = int('0b'+''.join([str(i) for i in epsilon_list]),2)\n",
    "    power = gamma_int * epsilon_int\n",
    "    print(\"Gamma rate: \",gamma_int)\n",
    "    print(\"Epsilon rate: \",epsilon_int)\n",
    "    print(\"Power consumption: \", power)\n",
    "    return power\n",
    "    "
   ]
  },
  {
   "cell_type": "code",
   "execution_count": null,
   "metadata": {},
   "outputs": [],
   "source": [
    "get_power_consumption(data)"
   ]
  },
  {
   "cell_type": "markdown",
   "metadata": {},
   "source": [
    "Oxygen rating"
   ]
  },
  {
   "cell_type": "code",
   "execution_count": null,
   "metadata": {},
   "outputs": [],
   "source": [
    "test_data"
   ]
  },
  {
   "cell_type": "code",
   "execution_count": 5,
   "metadata": {},
   "outputs": [],
   "source": [
    "def oxygen_reduce_list(data, digit = 0, verbose = False):\n",
    "    if len(data) == 1:\n",
    "        print(\"-\"*70)\n",
    "        print(\"Your oxygen generator rating is: \", data[0])\n",
    "        out_int = int('0b'+ data[0],2)\n",
    "        print(\"This translates to:\", out_int)\n",
    "        print(\"-\"*70)\n",
    "        return out_int\n",
    "    else:\n",
    "        print(\"List of \",len(data),\" numbers entered, checking position \",digit) if verbose else None\n",
    "        val = [int(l[digit]) for l in data]\n",
    "        counts = np.bincount(val)\n",
    "        print(\"Digits at position \",digit,\": \",val,\". Counts are: \",counts) if verbose else None\n",
    "        max_count = 1 if np.count_nonzero(counts == counts[0]) == len(counts) else np.argmax(counts) #checks if frequencies are the same, if so, puts 1\n",
    "        print(\"Max is: \", max_count, \", keeping numbers with \",max_count, \"at position \",digit, \":\") if verbose else None\n",
    "        new_data  = [l for l in data if l[digit] == str(max_count)]\n",
    "        print(new_data)  if verbose else None\n",
    "        digit +=1 \n",
    "        oxygen_reduce_list(new_data,digit)"
   ]
  },
  {
   "cell_type": "code",
   "execution_count": 7,
   "metadata": {
    "tags": []
   },
   "outputs": [
    {
     "name": "stdout",
     "output_type": "stream",
     "text": [
      "----------------------------------------------------------------------\n",
      "Your oxygen generator rating is:  10111\n",
      "This translates to: 23\n",
      "----------------------------------------------------------------------\n"
     ]
    }
   ],
   "source": [
    "out = oxygen_reduce_list(test_data)"
   ]
  },
  {
   "cell_type": "code",
   "execution_count": 9,
   "metadata": {},
   "outputs": [],
   "source": [
    "def CO2_reduce_list(data,digit = 0,verbose = 0):\n",
    "    if len(data) == 1:\n",
    "        print(\"-\"*70)\n",
    "        print(\"Your CO2 scrubber rating is: \", data[0])\n",
    "        out_int = int('0b'+ data[0],2)\n",
    "        print(\"This translates to:\", out_int)\n",
    "        print(\"-\"*70)\n",
    "        return CO2_reduce_list(data)\n",
    "    else:\n",
    "        print(\"List of \",len(data),\" numbers entered, checking position \",digit) if verbose else None\n",
    "        val = [int(l[digit]) for l in data]\n",
    "        counts = np.bincount(val)\n",
    "        print(\"Digits at position \",digit,\": \",val,\". Counts are: \",counts) if verbose else None\n",
    "        min_count = 0 if np.count_nonzero(counts == counts[0]) == len(counts) else np.argmin(counts) #checks if frequencies are the same, if so, puts 1\n",
    "        print(\"Min is: \", min_count, \", keeping numbers with \",min_count, \"at position \",digit, \":\") if verbose else None\n",
    "        new_data  = [l for l in data if l[digit] == str(min_count)]\n",
    "        print(new_data) if verbose else None\n",
    "        digit +=1 \n",
    "        CO2_reduce_list(new_data,digit)"
   ]
  },
  {
   "cell_type": "code",
   "execution_count": 10,
   "metadata": {},
   "outputs": [
    {
     "name": "stdout",
     "output_type": "stream",
     "text": [
      "----------------------------------------------------------------------\n",
      "Your CO2 scrubber rating is:  01010\n",
      "This translates to: 10\n",
      "----------------------------------------------------------------------\n"
     ]
    }
   ],
   "source": [
    "test_co2 = CO2_reduce_list(test_data)"
   ]
  },
  {
   "cell_type": "code",
   "execution_count": 11,
   "metadata": {},
   "outputs": [
    {
     "name": "stdout",
     "output_type": "stream",
     "text": [
      "----------------------------------------------------------------------\n",
      "Your oxygen generator rating is:  111101100011\n",
      "This translates to: 3939\n",
      "----------------------------------------------------------------------\n"
     ]
    }
   ],
   "source": [
    "oxy = oxygen_reduce_list(data)"
   ]
  },
  {
   "cell_type": "code",
   "execution_count": 12,
   "metadata": {},
   "outputs": [
    {
     "name": "stdout",
     "output_type": "stream",
     "text": [
      "----------------------------------------------------------------------\n",
      "Your CO2 scrubber rating is:  011011100010\n",
      "This translates to: 1762\n",
      "----------------------------------------------------------------------\n"
     ]
    }
   ],
   "source": [
    "co2 = CO2_reduce_list(data)"
   ]
  },
  {
   "cell_type": "code",
   "execution_count": 16,
   "metadata": {},
   "outputs": [
    {
     "name": "stdout",
     "output_type": "stream",
     "text": [
      "None\n"
     ]
    }
   ],
   "source": [
    "print(oxy)"
   ]
  },
  {
   "cell_type": "code",
   "execution_count": 59,
   "metadata": {},
   "outputs": [],
   "source": [
    "def oxygen_reduce_list2(data, digit = 0, verbose = False):\n",
    "    if len(data) == 1: #base case\n",
    "        print(\"-\"*70)\n",
    "        print(\"Your oxygen generator rating is: \", data[0])\n",
    "        out_int = int('0b'+ data[0],2)\n",
    "        print(\"This translates to:\", out_int)\n",
    "        print(\"-\"*70)\n",
    "        return out_int\n",
    "    else: # recursive case\n",
    "        print(\"List of \",len(data),\" numbers entered, checking position \",digit) if verbose else None\n",
    "        val = [int(l[digit]) for l in data]\n",
    "        counts = np.bincount(val)\n",
    "        print(\"Digits at position \",digit,\": \",val,\". Counts are: \",counts) if verbose else None\n",
    "        max_count = 1 if np.count_nonzero(counts == counts[0]) == len(counts) else np.argmax(counts) #checks if frequencies are the same, if so, puts 1\n",
    "        print(\"Max is: \", max_count, \", keeping numbers with \",max_count, \"at position \",digit, \":\") if verbose else None\n",
    "        new_data  = [l for l in data if l[digit] == str(max_count)]\n",
    "        print(new_data)  if verbose else None\n",
    "        digit +=1 \n",
    "        return oxygen_reduce_list2(new_data,digit)"
   ]
  },
  {
   "cell_type": "code",
   "execution_count": 60,
   "metadata": {},
   "outputs": [
    {
     "name": "stdout",
     "output_type": "stream",
     "text": [
      "----------------------------------------------------------------------\n",
      "Your oxygen generator rating is:  10111\n",
      "This translates to: 23\n",
      "----------------------------------------------------------------------\n"
     ]
    }
   ],
   "source": [
    "oxy =  oxygen_reduce_list2(test_data)"
   ]
  },
  {
   "cell_type": "code",
   "execution_count": 61,
   "metadata": {},
   "outputs": [
    {
     "data": {
      "text/plain": [
       "23"
      ]
     },
     "execution_count": 61,
     "metadata": {},
     "output_type": "execute_result"
    }
   ],
   "source": [
    "oxy"
   ]
  },
  {
   "cell_type": "code",
   "execution_count": 49,
   "metadata": {},
   "outputs": [],
   "source": [
    "def CO2_reduce_list2(data, digit = 0, verbose = 0):\n",
    "    if len(data) == 1: #base case\n",
    "        print(\"-\"*70)\n",
    "        print(\"Your CO2 scrubber rating is: \", data[0])\n",
    "        out_int = int('0b'+ data[0],2)\n",
    "        print(\"This translates to:\", out_int)\n",
    "        print(\"-\"*70)\n",
    "        return out_int\n",
    "    else: # recursive case\n",
    "        print(\"List of \",len(data),\" numbers entered, checking position \",digit) if verbose else None\n",
    "        val = [int(l[digit]) for l in data] # collect digit X from all elements\n",
    "        counts = np.bincount(val)           # get frequencies\n",
    "        print(\"Digits at position \",digit,\": \",val,\". Counts are: \",counts) if verbose else None\n",
    "        min_count = 0 if np.count_nonzero(counts == counts[0]) == len(counts) else np.argmin(counts) #checks if frequencies are the same, if so, puts 1\n",
    "        print(\"Min is: \", min_count, \", keeping numbers with \",min_count, \"at position \",digit, \":\") if verbose else None\n",
    "        new_data  = [l for l in data if l[digit] == str(min_count)] # only keeps the codes that have min at wanted index\n",
    "        print(new_data) if verbose else None\n",
    "        digit +=1 \n",
    "        CO2_reduce_list2(new_data,digit,verbose = 1)"
   ]
  },
  {
   "cell_type": "code",
   "execution_count": 50,
   "metadata": {},
   "outputs": [
    {
     "name": "stdout",
     "output_type": "stream",
     "text": [
      "Rec\n",
      "List of  12  numbers entered, checking position  0\n",
      "Digits at position  0 :  [0, 1, 1, 1, 1, 0, 0, 1, 1, 1, 0, 0] . Counts are:  [5 7]\n",
      "Min is:  0 , keeping numbers with  0 at position  0 :\n",
      "['00100', '01111', '00111', '00010', '01010']\n",
      "Rec\n",
      "List of  5  numbers entered, checking position  1\n",
      "Digits at position  1 :  [0, 1, 0, 0, 1] . Counts are:  [3 2]\n",
      "Min is:  1 , keeping numbers with  1 at position  1 :\n",
      "['01111', '01010']\n",
      "Rec\n",
      "List of  2  numbers entered, checking position  2\n",
      "Digits at position  2 :  [1, 0] . Counts are:  [1 1]\n",
      "Min is:  0 , keeping numbers with  0 at position  2 :\n",
      "['01010']\n",
      "base\n",
      "----------------------------------------------------------------------\n",
      "Your CO2 scrubber rating is:  01010\n",
      "This translates to: 10\n",
      "----------------------------------------------------------------------\n"
     ]
    }
   ],
   "source": [
    "out = CO2_reduce_list2(test_data,verbose = 1)"
   ]
  },
  {
   "cell_type": "code",
   "execution_count": 43,
   "metadata": {},
   "outputs": [
    {
     "data": {
      "text/plain": [
       "12"
      ]
     },
     "execution_count": 43,
     "metadata": {},
     "output_type": "execute_result"
    }
   ],
   "source": [
    "len(test_data)"
   ]
  },
  {
   "cell_type": "markdown",
   "metadata": {},
   "source": [
    "New try. Smaller function."
   ]
  },
  {
   "cell_type": "code",
   "execution_count": null,
   "metadata": {},
   "outputs": [],
   "source": [
    "def oxygen_reduce_list(data, digit = 0, verbose = False):\n",
    "    print(\"List of \",len(data),\" numbers entered, checking position \",digit) if verbose else None\n",
    "    val = [int(l[digit]) for l in data]\n",
    "    counts = np.bincount(val)\n",
    "    print(\"Digits at position \",digit,\": \",val,\". Counts are: \",counts) if verbose else None\n",
    "    max_count = 1 if np.count_nonzero(counts == counts[0]) == len(counts) else np.argmax(counts) #checks if frequencies are the same, if so, puts 1\n",
    "    print(\"Max is: \", max_count, \", keeping numbers with \",max_count, \"at position \",digit, \":\") if verbose else None\n",
    "    new_data  = [l for l in data if l[digit] == str(max_count)]\n",
    "    print(new_data)  if verbose else None\n",
    "    return new_data"
   ]
  },
  {
   "cell_type": "markdown",
   "metadata": {},
   "source": [
    "Wrapper function"
   ]
  },
  {
   "cell_type": "code",
   "execution_count": null,
   "metadata": {},
   "outputs": [],
   "source": [
    "def get_oxygen_rating(data):\n",
    "    diggi = 0 # digit to look at\n",
    "    if len(data) > 1:\n",
    "        oxygen_reduce_list(data, digit = diggi)\n",
    "    else:\n",
    "        print(\"-\"*70)\n",
    "        print(\"Your CO2 scrubber rating is: \", data[0])\n",
    "        out_int = int('0b'+ data[0],2)\n",
    "        print(\"This translates to:\", out_int)\n",
    "        print(\"-\"*70)\n",
    "        return out_int"
   ]
  }
 ],
 "metadata": {
  "interpreter": {
   "hash": "15f2f524c19b624b2daa16e55a121ff52c915c1a0aa017afdc4612857a6d3e97"
  },
  "kernelspec": {
   "display_name": "Python 3 (ipykernel)",
   "language": "python",
   "name": "python3"
  },
  "language_info": {
   "codemirror_mode": {
    "name": "ipython",
    "version": 3
   },
   "file_extension": ".py",
   "mimetype": "text/x-python",
   "name": "python",
   "nbconvert_exporter": "python",
   "pygments_lexer": "ipython3",
   "version": "3.8.10"
  }
 },
 "nbformat": 4,
 "nbformat_minor": 4
}
