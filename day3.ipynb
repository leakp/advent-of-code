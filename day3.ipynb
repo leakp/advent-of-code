{
 "cells": [
  {
   "cell_type": "markdown",
   "metadata": {},
   "source": [
    "### Init ###"
   ]
  },
  {
   "cell_type": "code",
   "execution_count": 1,
   "metadata": {},
   "outputs": [],
   "source": [
    "import numpy as np"
   ]
  },
  {
   "cell_type": "markdown",
   "metadata": {},
   "source": [
    "### read data ###"
   ]
  },
  {
   "cell_type": "code",
   "execution_count": 2,
   "metadata": {},
   "outputs": [],
   "source": [
    "with open(\"test_input3.txt\", \"r\") as tf:\n",
    "    test_data = tf.read().split('\\n')\n",
    "\n",
    "with open(\"input3.txt\", \"r\") as tf:\n",
    "    data = tf.read().split('\\n')    "
   ]
  },
  {
   "cell_type": "markdown",
   "metadata": {
    "tags": []
   },
   "source": [
    "# Part 1 #"
   ]
  },
  {
   "cell_type": "code",
   "execution_count": 67,
   "metadata": {},
   "outputs": [],
   "source": [
    "def get_power_consumption(data):\n",
    "    gamma_list = []\n",
    "    epsilon_list = []\n",
    "    for a in range(len(data[0])):\n",
    "        val = [int(l[a]) for l in data]\n",
    "        counts = np.bincount(val)\n",
    "        gamma_list.append(np.argmax(counts))\n",
    "        epsilon_list.append( np.argmin(counts))\n",
    "    gamma_int = int('0b'+''.join([str(i) for i in gamma_list]),2)\n",
    "    epsilon_int = int('0b'+''.join([str(i) for i in epsilon_list]),2)\n",
    "    power = gamma_int * epsilon_int\n",
    "    print(\"Gamma rate: \",gamma_int)\n",
    "    print(\"Epsilon rate: \",epsilon_int)\n",
    "    print(\"Power consumption: \", power)\n",
    "    return power\n",
    "    "
   ]
  },
  {
   "cell_type": "code",
   "execution_count": 69,
   "metadata": {},
   "outputs": [
    {
     "name": "stdout",
     "output_type": "stream",
     "text": [
      "Gamma rate:  3135\n",
      "Epsilon rate:  960\n",
      "Power consumption:  3009600\n"
     ]
    }
   ],
   "source": [
    "power = get_power_consumption(data)"
   ]
  },
  {
   "cell_type": "markdown",
   "metadata": {},
   "source": [
    "# Part 2 #"
   ]
  },
  {
   "cell_type": "markdown",
   "metadata": {},
   "source": [
    "### Oxygen rating ###"
   ]
  },
  {
   "cell_type": "code",
   "execution_count": 71,
   "metadata": {},
   "outputs": [],
   "source": [
    "def get_oxygen_rating(data, digit = 0, verbose = False):\n",
    "    if len(data) == 1: #base case\n",
    "        print(\"-\"*70)\n",
    "        print(\"Your oxygen generator rating is: \", data[0])\n",
    "        out_int = int('0b'+ data[0],2)\n",
    "        print(\"This translates to:\", out_int)\n",
    "        print(\"-\"*70)\n",
    "        return out_int\n",
    "    else: # recursive case\n",
    "        print(\"List of \",len(data),\" numbers entered, checking position \",digit) if verbose else None\n",
    "        val = [int(l[digit]) for l in data]\n",
    "        counts = np.bincount(val)\n",
    "        print(\"Digits at position \",digit,\": \",val,\". Counts are: \",counts) if verbose else None\n",
    "        max_count = 1 if np.count_nonzero(counts == counts[0]) == len(counts) else np.argmax(counts) #checks if frequencies are the same, if so, puts 1\n",
    "        print(\"Max is: \", max_count, \", keeping numbers with \",max_count, \"at position \",digit, \":\") if verbose else None\n",
    "        new_data  = [l for l in data if l[digit] == str(max_count)]\n",
    "        print(new_data)  if verbose else None\n",
    "        digit +=1 \n",
    "        return get_oxygen_rating(new_data,digit)"
   ]
  },
  {
   "cell_type": "code",
   "execution_count": 84,
   "metadata": {},
   "outputs": [],
   "source": [
    "def get_CO2_rating(data, digit = 0, verbose = 0):\n",
    "    if len(data) == 1: #base case\n",
    "        print(\"-\"*70)\n",
    "        print(\"Your CO2 scrubber rating is: \", data[0])\n",
    "        out_int = int('0b'+ data[0],2)\n",
    "        print(\"This translates to:\", out_int)\n",
    "        print(\"-\"*70)\n",
    "        return out_int\n",
    "    else: # recursive case\n",
    "        print(\"List of \",len(data),\" numbers entered, checking position \",digit) if verbose else None\n",
    "        val = [int(l[digit]) for l in data] # collect digit X from all elements\n",
    "        counts = np.bincount(val)           # get frequencies\n",
    "        print(\"Digits at position \",digit,\": \",val,\". Counts are: \",counts) if verbose else None\n",
    "        min_count = 0 if np.count_nonzero(counts == counts[0]) == len(counts) else np.argmin(counts) #checks if frequencies are the same, if so, puts 1\n",
    "        print(\"Min is: \", min_count, \", keeping numbers with \",min_count, \"at position \",digit, \":\") if verbose else None\n",
    "        new_data  = [l for l in data if l[digit] == str(min_count)] # only keeps the codes that have min at wanted index\n",
    "        print(new_data) if verbose else None\n",
    "        digit +=1 \n",
    "        return get_CO2_rating(new_data,digit)"
   ]
  },
  {
   "cell_type": "code",
   "execution_count": 79,
   "metadata": {},
   "outputs": [
    {
     "name": "stdout",
     "output_type": "stream",
     "text": [
      "----------------------------------------------------------------------\n",
      "Your oxygen generator rating is:  10111\n",
      "This translates to: 23\n",
      "----------------------------------------------------------------------\n"
     ]
    }
   ],
   "source": [
    "test_oxy = get_oxygen_rating(test_data)"
   ]
  },
  {
   "cell_type": "code",
   "execution_count": 85,
   "metadata": {},
   "outputs": [
    {
     "name": "stdout",
     "output_type": "stream",
     "text": [
      "----------------------------------------------------------------------\n",
      "Your CO2 scrubber rating is:  01010\n",
      "This translates to: 10\n",
      "----------------------------------------------------------------------\n"
     ]
    }
   ],
   "source": [
    "test_co2 = get_CO2_rating(test_data)"
   ]
  },
  {
   "cell_type": "code",
   "execution_count": 88,
   "metadata": {},
   "outputs": [
    {
     "name": "stdout",
     "output_type": "stream",
     "text": [
      "230\n"
     ]
    }
   ],
   "source": [
    "test_result = test_oxy * test_co2\n",
    "print(test_result)"
   ]
  },
  {
   "cell_type": "markdown",
   "metadata": {},
   "source": [
    "### Take puzzle data ###"
   ]
  },
  {
   "cell_type": "code",
   "execution_count": 90,
   "metadata": {},
   "outputs": [
    {
     "name": "stdout",
     "output_type": "stream",
     "text": [
      "----------------------------------------------------------------------\n",
      "Your oxygen generator rating is:  111101100011\n",
      "This translates to: 3939\n",
      "----------------------------------------------------------------------\n",
      "----------------------------------------------------------------------\n",
      "Your CO2 scrubber rating is:  011011100010\n",
      "This translates to: 1762\n",
      "----------------------------------------------------------------------\n",
      "Your puzzle result is: 6940518\n"
     ]
    }
   ],
   "source": [
    "oxy = get_oxygen_rating(data)\n",
    "co2 = get_CO2_rating(data)\n",
    "result = oxy * co2\n",
    "print('Your puzzle result is:', result)"
   ]
  },
  {
   "cell_type": "code",
   "execution_count": null,
   "metadata": {},
   "outputs": [],
   "source": []
  }
 ],
 "metadata": {
  "interpreter": {
   "hash": "15f2f524c19b624b2daa16e55a121ff52c915c1a0aa017afdc4612857a6d3e97"
  },
  "kernelspec": {
   "display_name": "Python 3 (ipykernel)",
   "language": "python",
   "name": "python3"
  },
  "language_info": {
   "codemirror_mode": {
    "name": "ipython",
    "version": 3
   },
   "file_extension": ".py",
   "mimetype": "text/x-python",
   "name": "python",
   "nbconvert_exporter": "python",
   "pygments_lexer": "ipython3",
   "version": "3.8.10"
  }
 },
 "nbformat": 4,
 "nbformat_minor": 4
}
