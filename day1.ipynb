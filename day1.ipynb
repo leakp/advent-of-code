{
 "cells": [
  {
   "cell_type": "code",
   "execution_count": 24,
   "id": "59436b4b-5679-40ca-8733-763e89ba3834",
   "metadata": {},
   "outputs": [],
   "source": [
    "import numpy as np\n",
    "import pandas as pd"
   ]
  },
  {
   "cell_type": "markdown",
   "id": "5e78262c-3dd1-40dd-b303-1a815c8a2927",
   "metadata": {},
   "source": [
    "First attempt for advent of code"
   ]
  },
  {
   "cell_type": "code",
   "execution_count": 13,
   "id": "dcbe1e4a-56b6-426b-8be9-f4134fc65b0e",
   "metadata": {},
   "outputs": [],
   "source": [
    "with open(\"input1.txt\", \"r\") as tf:\n",
    "    lines = tf.read().split('\\n')\n",
    "data = list(map(int, lines))\n"
   ]
  },
  {
   "cell_type": "code",
   "execution_count": 56,
   "id": "c7db54a7-fca3-4a69-a5a8-798e302cff29",
   "metadata": {},
   "outputs": [],
   "source": [
    "test_data = [199, 200, 208, 210, 200, 207, 240, 269, 260, 263]"
   ]
  },
  {
   "cell_type": "code",
   "execution_count": 58,
   "id": "d3d0181a-cdba-4786-aade-24af01f34aa3",
   "metadata": {},
   "outputs": [
    {
     "name": "stdout",
     "output_type": "stream",
     "text": [
      "0 199 200\n",
      "True\n",
      "1 200 208\n",
      "True\n",
      "2 208 210\n",
      "True\n",
      "3 210 200\n",
      "False\n",
      "4 200 207\n",
      "True\n",
      "5 207 240\n",
      "True\n",
      "6 240 269\n",
      "True\n",
      "7 269 260\n",
      "False\n",
      "8 260 263\n",
      "True\n"
     ]
    }
   ],
   "source": [
    "for i,n in enumerate(test_data[:-1]):\n",
    "    print(i,n,test_data[i+1])\n",
    "    print(n < test_data[i+1])"
   ]
  },
  {
   "cell_type": "code",
   "execution_count": 59,
   "id": "e10751a5-f583-4903-81ae-7d907d989fcc",
   "metadata": {},
   "outputs": [],
   "source": [
    "bigger_than = [n < test_data[i+1] for i,n in enumerate(test_data[:-1])]"
   ]
  },
  {
   "cell_type": "code",
   "execution_count": 60,
   "id": "111377ba-d2d8-4ae6-850d-18de5793cc81",
   "metadata": {},
   "outputs": [
    {
     "name": "stdout",
     "output_type": "stream",
     "text": [
      "[True, True, True, False, True, True, True, False, True]\n"
     ]
    }
   ],
   "source": [
    "print(bigger_than)"
   ]
  },
  {
   "cell_type": "code",
   "execution_count": 61,
   "id": "9913f9a1-9cbe-401e-90e6-02b753e169c4",
   "metadata": {},
   "outputs": [
    {
     "data": {
      "text/plain": [
       "7"
      ]
     },
     "execution_count": 61,
     "metadata": {},
     "output_type": "execute_result"
    }
   ],
   "source": [
    "sum(bigger_than)"
   ]
  },
  {
   "cell_type": "code",
   "execution_count": 62,
   "id": "febe5f09-63fa-46e3-b49b-9b4eb5188392",
   "metadata": {},
   "outputs": [],
   "source": [
    "bigger_than_realdata = [n < data[i+1] for i,n in enumerate(data[:-1])]"
   ]
  },
  {
   "cell_type": "code",
   "execution_count": 63,
   "id": "3e483168-8fb1-4511-bf1f-234122e22a4a",
   "metadata": {},
   "outputs": [
    {
     "data": {
      "text/plain": [
       "1655"
      ]
     },
     "execution_count": 63,
     "metadata": {},
     "output_type": "execute_result"
    }
   ],
   "source": [
    "sum(bigger_than_realdata)"
   ]
  },
  {
   "cell_type": "code",
   "execution_count": 64,
   "id": "05204aa2-02d0-42dc-8ece-6eb2f4978f64",
   "metadata": {},
   "outputs": [],
   "source": [
    "def depth_increase(data_list):\n",
    "    bigger_than = [n < data_list[i+1] for i,n in enumerate(data_list[:-1])]\n",
    "    return sum(bigger_than)"
   ]
  },
  {
   "cell_type": "code",
   "execution_count": 66,
   "id": "7a4171fe-b7f6-49e1-8491-41ff67cc435f",
   "metadata": {},
   "outputs": [
    {
     "data": {
      "text/plain": [
       "7"
      ]
     },
     "execution_count": 66,
     "metadata": {},
     "output_type": "execute_result"
    }
   ],
   "source": [
    "depth_increase(test_data)"
   ]
  },
  {
   "cell_type": "code",
   "execution_count": 76,
   "id": "c5a1c02d-ff7c-4e7e-935f-ee7d8e9ad982",
   "metadata": {},
   "outputs": [
    {
     "data": {
      "text/plain": [
       "[199, 200, 208, 210, 200, 207, 240, 269, 260, 263]"
      ]
     },
     "execution_count": 76,
     "metadata": {},
     "output_type": "execute_result"
    }
   ],
   "source": [
    "test_data"
   ]
  },
  {
   "cell_type": "code",
   "execution_count": 72,
   "id": "bacee228-d69b-45ea-86e4-be12118da429",
   "metadata": {},
   "outputs": [],
   "source": [
    "bla = len(test_data)%3"
   ]
  },
  {
   "cell_type": "code",
   "execution_count": 77,
   "id": "3e008c3d-00eb-48e7-a328-9cccfe0ffe37",
   "metadata": {},
   "outputs": [
    {
     "data": {
      "text/plain": [
       "[199, 200, 208, 210, 200, 207, 240, 269]"
      ]
     },
     "execution_count": 77,
     "metadata": {},
     "output_type": "execute_result"
    }
   ],
   "source": [
    "test_data[:-2]"
   ]
  },
  {
   "cell_type": "code",
   "execution_count": 81,
   "id": "8fa56cec-b731-4cc8-ad06-ade9523e070d",
   "metadata": {},
   "outputs": [
    {
     "data": {
      "text/plain": [
       "[200, 208, 210]"
      ]
     },
     "execution_count": 81,
     "metadata": {},
     "output_type": "execute_result"
    }
   ],
   "source": [
    "test_data[1:4]"
   ]
  },
  {
   "cell_type": "code",
   "execution_count": 83,
   "id": "d90eacdc-e53f-4017-b74c-2833b4e7ebd4",
   "metadata": {},
   "outputs": [],
   "source": [
    "bigger_than = [sum(test_data[i:i+3]) < sum(test_data[i+1:i+4]) for i,n in enumerate(test_data[:-3])]"
   ]
  },
  {
   "cell_type": "code",
   "execution_count": 84,
   "id": "5271fe42-2535-4434-9044-39e1a057115a",
   "metadata": {},
   "outputs": [
    {
     "data": {
      "text/plain": [
       "[True, False, False, True, True, True, True]"
      ]
     },
     "execution_count": 84,
     "metadata": {},
     "output_type": "execute_result"
    }
   ],
   "source": [
    "bigger_than"
   ]
  },
  {
   "cell_type": "code",
   "execution_count": 85,
   "id": "4128f858-83f7-41fb-b511-0962b70c5161",
   "metadata": {},
   "outputs": [
    {
     "data": {
      "text/plain": [
       "5"
      ]
     },
     "execution_count": 85,
     "metadata": {},
     "output_type": "execute_result"
    }
   ],
   "source": [
    "sum(bigger_than)"
   ]
  },
  {
   "cell_type": "code",
   "execution_count": 86,
   "id": "0317e5a9-9609-409c-8c91-bc9ce493384a",
   "metadata": {},
   "outputs": [],
   "source": [
    "def depth_win3(data_list):\n",
    "    bigger_than = [sum(data_list[i:i+3]) < sum(data_list[i+1:i+4]) for i,n in enumerate(data_list[:-3])]\n",
    "    return sum(bigger_than)"
   ]
  },
  {
   "cell_type": "code",
   "execution_count": 87,
   "id": "995398c9-ccff-4cdc-a9d6-ee7c6ad03e30",
   "metadata": {},
   "outputs": [
    {
     "data": {
      "text/plain": [
       "5"
      ]
     },
     "execution_count": 87,
     "metadata": {},
     "output_type": "execute_result"
    }
   ],
   "source": [
    "depth_win3(test_data)"
   ]
  },
  {
   "cell_type": "code",
   "execution_count": 88,
   "id": "fbee6fba-8ee9-4d6a-9d55-57b37e3f1dba",
   "metadata": {},
   "outputs": [
    {
     "data": {
      "text/plain": [
       "1683"
      ]
     },
     "execution_count": 88,
     "metadata": {},
     "output_type": "execute_result"
    }
   ],
   "source": [
    "depth_win3(data)"
   ]
  },
  {
   "cell_type": "code",
   "execution_count": null,
   "id": "7d5a1583-6ccf-4249-99c1-a6f37cf695a9",
   "metadata": {},
   "outputs": [],
   "source": []
  }
 ],
 "metadata": {
  "kernelspec": {
   "display_name": "Python 3 (ipykernel)",
   "language": "python",
   "name": "python3"
  },
  "language_info": {
   "codemirror_mode": {
    "name": "ipython",
    "version": 3
   },
   "file_extension": ".py",
   "mimetype": "text/x-python",
   "name": "python",
   "nbconvert_exporter": "python",
   "pygments_lexer": "ipython3",
   "version": "3.9.7"
  }
 },
 "nbformat": 4,
 "nbformat_minor": 5
}
