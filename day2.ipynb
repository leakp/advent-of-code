{
 "cells": [
  {
   "cell_type": "code",
   "execution_count": 73,
   "id": "bc816a57-73f3-474c-aa9b-21855f95c1ab",
   "metadata": {},
   "outputs": [],
   "source": [
    "with open(\"input2.txt\", \"r\") as tf:\n",
    "    lines = tf.read().split('\\n')"
   ]
  },
  {
   "cell_type": "code",
   "execution_count": 32,
   "id": "bef2407b-e5e8-4463-83d5-9ddeee97676e",
   "metadata": {},
   "outputs": [
    {
     "name": "stdout",
     "output_type": "stream",
     "text": [
      "defaultdict(<class 'list'>, {})\n"
     ]
    }
   ],
   "source": [
    "#adapted from https://stackoverflow.com/questions/3199171/append-multiple-values-for-one-key-in-a-dictionary\n",
    "from collections import defaultdict\n",
    "\n",
    "move_dict = defaultdict(list)\n",
    "\n",
    "for line in lines:\n",
    "    key = line.split()[0]\n",
    "    val = int(line.split()[1])\n",
    "    #print(key, val)\n",
    "    move_dict[key].append(val)"
   ]
  },
  {
   "cell_type": "code",
   "execution_count": 33,
   "id": "bd4aade0-66cb-4bdc-858d-9cb7367b8749",
   "metadata": {},
   "outputs": [],
   "source": [
    "move_sums = {k:sum(move_dict[k]) for k in move_dict.keys()}"
   ]
  },
  {
   "cell_type": "code",
   "execution_count": 34,
   "id": "8f30352d-61ce-4f27-a1af-0dd23bfb057d",
   "metadata": {},
   "outputs": [
    {
     "data": {
      "text/plain": [
       "{'forward': 1931, 'down': 1983, 'up': 1030}"
      ]
     },
     "execution_count": 34,
     "metadata": {},
     "output_type": "execute_result"
    }
   ],
   "source": [
    "move_sums"
   ]
  },
  {
   "cell_type": "code",
   "execution_count": 74,
   "id": "6a562b58-5e40-41cb-bc9a-9a00144cf806",
   "metadata": {},
   "outputs": [
    {
     "name": "stdout",
     "output_type": "stream",
     "text": [
      "Moves forward:  1931\n",
      "Moves down:  1983\n",
      "Moves up:  1030\n",
      "Final position (x,y):  1931 , 953\n",
      "Product of vertical and horizontal position:  1840243\n"
     ]
    }
   ],
   "source": [
    "result = move_sums['forward']*(move_sums['down']-move_sums['up'])\n",
    "print('Moves forward: ', move_sums['forward'])\n",
    "print('Moves down: ', move_sums['down'])\n",
    "print('Moves up: ', move_sums['up'])\n",
    "print('Final position (x,y): ', move_sums['forward'],',',move_sums['down']-move_sums['up'])\n",
    "print('Product of vertical and horizontal position: ', result)"
   ]
  },
  {
   "cell_type": "code",
   "execution_count": 38,
   "id": "ac0d15ce-fa24-4bb8-9db9-bdc5d60ffc90",
   "metadata": {},
   "outputs": [
    {
     "name": "stdout",
     "output_type": "stream",
     "text": [
      "1840243\n"
     ]
    }
   ],
   "source": [
    "print(result)"
   ]
  },
  {
   "cell_type": "markdown",
   "id": "3c25eb4d-fad9-40dc-8e1a-6c0d4b39a49e",
   "metadata": {},
   "source": [
    "Make it a function"
   ]
  },
  {
   "cell_type": "code",
   "execution_count": 75,
   "id": "f47e39f3-89f2-4010-aa40-e1fe2e89262c",
   "metadata": {},
   "outputs": [],
   "source": [
    "def position_product(list_input):\n",
    "    #adapted from https://stackoverflow.com/questions/3199171/append-multiple-values-for-one-key-in-a-dictionary\n",
    "    from collections import defaultdict\n",
    "    move_dict = defaultdict(list)\n",
    "    for line in list_input:\n",
    "        key = line.split()[0]\n",
    "        val = int(line.split()[1])\n",
    "        move_dict[key].append(val)\n",
    "    move_sums = {k:sum(move_dict[k]) for k in move_dict.keys()}\n",
    "    result = move_sums['forward']*(move_sums['down']-move_sums['up'])\n",
    "    print('Moves forward: ', move_sums['forward'])\n",
    "    print('Moves down: ', move_sums['down'])\n",
    "    print('Moves up: ', move_sums['up'])\n",
    "    print('Final position (x,y): ', move_sums['forward'],',',move_sums['down']-move_sums['up'])\n",
    "    print('Product of vertical and horizontal position: ', result)\n",
    "    return result\n",
    "    "
   ]
  },
  {
   "cell_type": "code",
   "execution_count": 76,
   "id": "5f8f50ec-e40e-4e40-b774-7a18d38295f9",
   "metadata": {},
   "outputs": [
    {
     "name": "stdout",
     "output_type": "stream",
     "text": [
      "Moves forward:  1931\n",
      "Moves down:  1983\n",
      "Moves up:  1030\n",
      "Final position (x,y):  1931 , 953\n",
      "Product of vertical and horizontal position:  1840243\n"
     ]
    },
    {
     "data": {
      "text/plain": [
       "1840243"
      ]
     },
     "execution_count": 76,
     "metadata": {},
     "output_type": "execute_result"
    }
   ],
   "source": [
    "position_product(lines)"
   ]
  },
  {
   "cell_type": "markdown",
   "id": "cd77ceba-4adc-4513-8bc4-3ff0ec0d09b1",
   "metadata": {},
   "source": [
    "Part TWO"
   ]
  },
  {
   "cell_type": "code",
   "execution_count": 110,
   "id": "9a99fc8a-2003-4f93-8798-22ab1d7d4a0b",
   "metadata": {},
   "outputs": [],
   "source": [
    "def position_product_2(list_input, verbose = None):\n",
    "    aim        = 0\n",
    "    horizontal = 0\n",
    "    depth      = 0\n",
    "    for line in list_input:\n",
    "        print(line) if verbose else None\n",
    "        move = line.split()[0]\n",
    "        X    = int(line.split()[1])\n",
    "        if move == 'forward':\n",
    "            horizontal += X\n",
    "            depth += (aim*X)\n",
    "        elif move == 'down':\n",
    "            aim += X\n",
    "            #depth += X\n",
    "        elif move == 'up':\n",
    "            aim -= X\n",
    "            #depth -= X\n",
    "        print('Aim: ',aim,' Depth: ',depth,' Horizontal: ',horizontal) if verbose else None\n",
    "    result = horizontal*depth\n",
    "    print('Final params: Aim: ',aim,' Depth: ',depth,' Horizontal: ',horizontal)\n",
    "    print('Result: ',result)\n",
    "    return result\n",
    "    "
   ]
  },
  {
   "cell_type": "code",
   "execution_count": null,
   "id": "27017764-2895-4e00-b34f-054c34d754ec",
   "metadata": {},
   "outputs": [],
   "source": [
    "with open(\"test_input2.txt\", \"r\") as tf:\n",
    "    test = tf.read().split('\\n')\n",
    "print(test)"
   ]
  },
  {
   "cell_type": "code",
   "execution_count": 107,
   "id": "07b72445-7d28-4a86-b718-d1b70519243a",
   "metadata": {},
   "outputs": [
    {
     "name": "stdout",
     "output_type": "stream",
     "text": [
      "forward 5\n",
      "Aim:  0  Depth:  0  Horizontal:  5\n",
      "down 5\n",
      "Aim:  5  Depth:  0  Horizontal:  5\n",
      "forward 8\n",
      "Aim:  5  Depth:  40  Horizontal:  13\n",
      "up 3\n",
      "Aim:  2  Depth:  40  Horizontal:  13\n",
      "down 8\n",
      "Aim:  10  Depth:  40  Horizontal:  13\n",
      "forward 2\n",
      "Aim:  10  Depth:  60  Horizontal:  15\n",
      "Final params: Aim:  10  Depth:  60  Horizontal:  15\n",
      "Result:  900\n"
     ]
    },
    {
     "data": {
      "text/plain": [
       "900"
      ]
     },
     "execution_count": 107,
     "metadata": {},
     "output_type": "execute_result"
    }
   ],
   "source": [
    "position_product_2(test,verbose = True)"
   ]
  },
  {
   "cell_type": "code",
   "execution_count": 112,
   "id": "599131d9-ad2f-480c-9f08-35d379947283",
   "metadata": {},
   "outputs": [
    {
     "name": "stdout",
     "output_type": "stream",
     "text": [
      "Final params: Aim:  953  Depth:  894762  Horizontal:  1931\n",
      "Result:  1727785422\n"
     ]
    },
    {
     "data": {
      "text/plain": [
       "1727785422"
      ]
     },
     "execution_count": 112,
     "metadata": {},
     "output_type": "execute_result"
    }
   ],
   "source": [
    "position_product_2(lines)"
   ]
  },
  {
   "cell_type": "code",
   "execution_count": null,
   "id": "9c9c63ed-438c-43e0-8dfa-8d0c1c4a0251",
   "metadata": {},
   "outputs": [],
   "source": []
  }
 ],
 "metadata": {
  "kernelspec": {
   "display_name": "Python 3 (ipykernel)",
   "language": "python",
   "name": "python3"
  },
  "language_info": {
   "codemirror_mode": {
    "name": "ipython",
    "version": 3
   },
   "file_extension": ".py",
   "mimetype": "text/x-python",
   "name": "python",
   "nbconvert_exporter": "python",
   "pygments_lexer": "ipython3",
   "version": "3.8.10"
  }
 },
 "nbformat": 4,
 "nbformat_minor": 5
}
